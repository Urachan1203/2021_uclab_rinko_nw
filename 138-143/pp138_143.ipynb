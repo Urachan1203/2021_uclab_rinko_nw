{
 "cells": [
  {
   "cell_type": "markdown",
   "metadata": {},
   "source": [
    "## Reading from a File\n",
    "`vlan.cfg` を読んでみましょう。"
   ]
  },
  {
   "cell_type": "code",
   "execution_count": 2,
   "metadata": {},
   "outputs": [
    {
     "data": {
      "text/plain": [
       "'vlan 10\\n    name USERS\\nvlan 20\\n    name VOICE\\nvlan 30\\n    name WLAN\\nvlan 40\\n    name APP\\nvlan 50\\n    name WEB\\nvlan 60\\n    name DB'"
      ]
     },
     "execution_count": 2,
     "metadata": {},
     "output_type": "execute_result"
    }
   ],
   "source": [
    "vlans_file = open('vlans.cfg', 'r')\n",
    "vlans_file.read()   # strオブジェクトとして読み出し"
   ]
  },
  {
   "cell_type": "code",
   "execution_count": 3,
   "metadata": {},
   "outputs": [],
   "source": [
    "vlans_file.close()"
   ]
  },
  {
   "cell_type": "markdown",
   "metadata": {},
   "source": [
    "各行を読んでリストに格納するには、`readline()` を用います。"
   ]
  },
  {
   "cell_type": "code",
   "execution_count": 4,
   "metadata": {},
   "outputs": [
    {
     "data": {
      "text/plain": [
       "['vlan 10\\n',\n",
       " '    name USERS\\n',\n",
       " 'vlan 20\\n',\n",
       " '    name VOICE\\n',\n",
       " 'vlan 30\\n',\n",
       " '    name WLAN\\n',\n",
       " 'vlan 40\\n',\n",
       " '    name APP\\n',\n",
       " 'vlan 50\\n',\n",
       " '    name WEB\\n',\n",
       " 'vlan 60\\n',\n",
       " '    name DB']"
      ]
     },
     "execution_count": 4,
     "metadata": {},
     "output_type": "execute_result"
    }
   ],
   "source": [
    "vlan_files = open('vlans.cfg', 'r')\n",
    "vlan_files.readlines()"
   ]
  },
  {
   "cell_type": "code",
   "execution_count": 5,
   "metadata": {},
   "outputs": [],
   "source": [
    "vlan_files.close()"
   ]
  },
  {
   "cell_type": "markdown",
   "metadata": {},
   "source": [
    "`vlan.cfg` を読み込み、辞書型に変換しましょう。"
   ]
  },
  {
   "cell_type": "code",
   "execution_count": 6,
   "metadata": {},
   "outputs": [
    {
     "data": {
      "text/plain": [
       "['vlan 10',\n",
       " '    name USERS',\n",
       " 'vlan 20',\n",
       " '    name VOICE',\n",
       " 'vlan 30',\n",
       " '    name WLAN',\n",
       " 'vlan 40',\n",
       " '    name APP',\n",
       " 'vlan 50',\n",
       " '    name WEB',\n",
       " 'vlan 60',\n",
       " '    name DB']"
      ]
     },
     "execution_count": 6,
     "metadata": {},
     "output_type": "execute_result"
    }
   ],
   "source": [
    "vlans_file = open('vlans.cfg')\n",
    "vlans_text = vlans_file.read()\n",
    "vlans_list = vlans_text.splitlines()\n",
    "\n",
    "vlans_list\n"
   ]
  },
  {
   "cell_type": "code",
   "execution_count": 12,
   "metadata": {},
   "outputs": [
    {
     "data": {
      "text/plain": [
       "[{'id': '10', 'name': 'USERS'},\n",
       " {'id': '20', 'name': 'VOICE'},\n",
       " {'id': '30', 'name': 'WLAN'},\n",
       " {'id': '40', 'name': 'APP'},\n",
       " {'id': '50', 'name': 'WEB'},\n",
       " {'id': '60', 'name': 'DB'}]"
      ]
     },
     "execution_count": 12,
     "metadata": {},
     "output_type": "execute_result"
    }
   ],
   "source": [
    "vlans = []\n",
    "for item in vlans_list:\n",
    "    if 'vlan' in item:\n",
    "        temp = {}\n",
    "        id = item.strip().strip('vlan').strip()     # 空白文字と'vlan'を削除\n",
    "        temp['id'] = id\n",
    "    elif 'name' in item:\n",
    "        name = item.strip().strip('name').strip()   # 空白文字と'name'を削除\n",
    "        temp['name'] = name\n",
    "        vlans.append(temp)\n",
    "\n",
    "vlans"
   ]
  },
  {
   "cell_type": "code",
   "execution_count": 13,
   "metadata": {},
   "outputs": [],
   "source": [
    "vlans_file.close()"
   ]
  },
  {
   "cell_type": "markdown",
   "metadata": {},
   "source": [
    "## Writing to a File\n",
    "データをファイルに書き込んでみましょう。"
   ]
  },
  {
   "cell_type": "code",
   "execution_count": 14,
   "metadata": {},
   "outputs": [
    {
     "data": {
      "text/plain": [
       "[{'id': '10', 'name': 'USERS'},\n",
       " {'id': '20', 'name': 'VOICE'},\n",
       " {'id': '30', 'name': 'WLAN'},\n",
       " {'id': '40', 'name': 'APP'},\n",
       " {'id': '50', 'name': 'WEB'},\n",
       " {'id': '60', 'name': 'DB'},\n",
       " {'id': '70', 'name': 'MISC'},\n",
       " {'id': '80', 'name': 'HQ'}]"
      ]
     },
     "execution_count": 14,
     "metadata": {},
     "output_type": "execute_result"
    }
   ],
   "source": [
    "add_vlan = {'id': '70', 'name': 'MISC'}\n",
    "vlans.append(add_vlan)\n",
    "\n",
    "add_vlan = {'id': '80', 'name': 'HQ'}\n",
    "vlans.append(add_vlan)\n",
    "\n",
    "vlans"
   ]
  },
  {
   "cell_type": "code",
   "execution_count": 15,
   "metadata": {},
   "outputs": [],
   "source": [
    "write_file = open('vlans_new.cfg', 'w')\n",
    "\n",
    "for vlan in vlans:\n",
    "    id = vlan.get('id')\n",
    "    name = vlan.get('name')\n",
    "    write_file.write('vlan ' + id + '\\n')\n",
    "    write_file.write(' name ' + name + '\\n')\n",
    "\n",
    "write_file.close()  #! デフォルトの設定だとファイルを閉じないと書き込まれないので注意"
   ]
  },
  {
   "cell_type": "markdown",
   "metadata": {},
   "source": [
    "`with` を用いてファイルを開くと、自動的に close される。\n",
    "第1引数に相対パス、第2引数にモードを指定する。\n",
    "\n",
    "↓ モード一覧\n",
    "\n",
    "r  : 読み込み\n",
    "\n",
    "w  : 書き込み（すでにファイルが存在する場合上書きされる）\n",
    "\n",
    "a  : 書き込み（追記）\n",
    "\n",
    "r+ : 読み込み＆書き込み"
   ]
  },
  {
   "cell_type": "code",
   "execution_count": 16,
   "metadata": {},
   "outputs": [],
   "source": [
    "with open('vlans_new.cfg', 'w') as write_file:\n",
    "    write_file.write('vlan 10\\n')\n",
    "    write_file.write(' name TEST_VLAN\\n')"
   ]
  }
 ],
 "metadata": {
  "kernelspec": {
   "display_name": "Python 3.8.9 64-bit ('rinko2021-python')",
   "metadata": {
    "interpreter": {
     "hash": "580215f8c70aa0e964bdba48cc7058eefad32e2f0b8840c88f5eafe9ea1be42a"
    }
   },
   "name": "python3"
  },
  "language_info": {
   "codemirror_mode": {
    "name": "ipython",
    "version": 3
   },
   "file_extension": ".py",
   "mimetype": "text/x-python",
   "name": "python",
   "nbconvert_exporter": "python",
   "pygments_lexer": "ipython3",
   "version": "3.8.9"
  },
  "orig_nbformat": 2
 },
 "nbformat": 4,
 "nbformat_minor": 2
}
