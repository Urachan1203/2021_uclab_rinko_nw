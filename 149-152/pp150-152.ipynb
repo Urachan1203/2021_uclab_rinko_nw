{
 "cells": [
  {
   "cell_type": "markdown",
   "metadata": {},
   "source": [
    "# Using pip and Installing Python Packages"
   ]
  },
  {
   "cell_type": "markdown",
   "metadata": {},
   "source": [
    "`pip` を用いるとパッケージがインストールできます。\n",
    "\n",
    "```\n",
    "$ pip install netmiko\n",
    "```"
   ]
  },
  {
   "cell_type": "markdown",
   "metadata": {},
   "source": [
    "特定のバージョンのパッケージをインストールしたい場合、次のようにバージョンを指定できます。（下の例は `netmiko` v1.4.2 のインストール例）\n",
    "\n",
    "```\n",
    "$ pip install netmiko==1.4.2\n",
    "```"
   ]
  },
  {
   "cell_type": "markdown",
   "metadata": {},
   "source": [
    "パッケージのバージョンをアップグレードした場合は、次のようにする。\n",
    "\n",
    "```\n",
    "$ pip install netmiko --upgrade\n",
    "$ pip install netmiko -U\n",
    "```"
   ]
  },
  {
   "cell_type": "markdown",
   "metadata": {},
   "source": [
    "パッケージのソースをGitHubから持ってきて、自前でビルドすることもできます。\n",
    "\n",
    "```\n",
    "$ pip install -r requirement.txt\n",
    "$ python setup.py install\n",
    "```"
   ]
  },
  {
   "cell_type": "markdown",
   "metadata": {},
   "source": [
    "↑ のコマンドだとデフォルトのパスにそのままインストールされるが、インストールせずにバイナリを今いるディレクトリに残すこともできます。パッケージ開発者は使うかも。\n",
    "\n",
    "```\n",
    "$ python setup.py develop\n",
    "```"
   ]
  }
 ],
 "metadata": {
  "interpreter": {
   "hash": "8c6016f40169d990b868d261ef29c4bc9e9e444f1b0778f5ad4382daa54bf391"
  },
  "kernelspec": {
   "display_name": "Python 3.8.9 64-bit ('rinko2021-python': pyenv)",
   "language": "python",
   "name": "python3"
  },
  "language_info": {
   "name": "python",
   "version": "3.8.9"
  },
  "orig_nbformat": 4
 },
 "nbformat": 4,
 "nbformat_minor": 2
}
