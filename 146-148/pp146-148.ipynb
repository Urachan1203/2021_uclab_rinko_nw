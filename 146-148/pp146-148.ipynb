{
 "cells": [
  {
   "cell_type": "markdown",
   "metadata": {},
   "source": [
    "# Working with Python Modules\n",
    "自作モジュール `push.py` をモジュールとして使ってみましょう。 "
   ]
  },
  {
   "cell_type": "code",
   "execution_count": 2,
   "metadata": {},
   "outputs": [],
   "source": [
    "import push"
   ]
  },
  {
   "cell_type": "markdown",
   "metadata": {},
   "source": [
    "import された method を確認するには、`dir(module_name)` を用いる。"
   ]
  },
  {
   "cell_type": "code",
   "execution_count": 3,
   "metadata": {},
   "outputs": [
    {
     "data": {
      "text/plain": [
       "['__builtins__',\n",
       " '__cached__',\n",
       " '__doc__',\n",
       " '__file__',\n",
       " '__loader__',\n",
       " '__name__',\n",
       " '__package__',\n",
       " '__spec__',\n",
       " 'get_commands',\n",
       " 'push_commands']"
      ]
     },
     "execution_count": 3,
     "metadata": {},
     "output_type": "execute_result"
    }
   ],
   "source": [
    "dir(push)"
   ]
  },
  {
   "cell_type": "code",
   "execution_count": 4,
   "metadata": {},
   "outputs": [],
   "source": [
    "device = 'router1'\n",
    "commands = ['interface Eth1/1', 'shutdown']"
   ]
  },
  {
   "cell_type": "markdown",
   "metadata": {},
   "source": [
    "import した method を使う。"
   ]
  },
  {
   "cell_type": "code",
   "execution_count": 5,
   "metadata": {},
   "outputs": [
    {
     "name": "stdout",
     "output_type": "stream",
     "text": [
      "Connecting to device: router1\n",
      "Sending command: interface Eth1/1\n",
      "Sending command: shutdown\n"
     ]
    }
   ],
   "source": [
    "push.push_commands(device, commands)"
   ]
  },
  {
   "cell_type": "markdown",
   "metadata": {},
   "source": [
    "特定の関数のみを module から import する場合は、`from module_name import func_name` とする。\n",
    "\n",
    "※ `from module_name import *` とすれば全ての関数がインポートされるが、複数の module を import した際に名前が衝突したりしてデバッグが大変になるのでおすすめしない。"
   ]
  },
  {
   "cell_type": "code",
   "execution_count": null,
   "metadata": {},
   "outputs": [],
   "source": [
    "from push import push_commands"
   ]
  },
  {
   "cell_type": "code",
   "execution_count": 6,
   "metadata": {},
   "outputs": [
    {
     "name": "stdout",
     "output_type": "stream",
     "text": [
      "Connecting to device: router1\n",
      "Sending command: interface Eth1/1\n",
      "Sending command: shutdown\n"
     ]
    }
   ],
   "source": [
    "device = 'router1'\n",
    "commands = ['interface Eth1/1', 'shutdown']\n",
    "push_commands(device, commands)"
   ]
  },
  {
   "cell_type": "markdown",
   "metadata": {},
   "source": [
    "module 名を変更するには、`from module_name import func_name as new_func_name` とする。 "
   ]
  },
  {
   "cell_type": "code",
   "execution_count": 8,
   "metadata": {},
   "outputs": [],
   "source": [
    "from push import push_commands as pc"
   ]
  },
  {
   "cell_type": "code",
   "execution_count": 9,
   "metadata": {},
   "outputs": [
    {
     "name": "stdout",
     "output_type": "stream",
     "text": [
      "Connecting to device: router1\n",
      "Sending command: interface Eth1/1\n",
      "Sending command: shutdown\n"
     ]
    }
   ],
   "source": [
    "device = 'router1'\n",
    "commands = ['interface Eth1/1', 'shutdown']\n",
    "pc(device, commands)"
   ]
  },
  {
   "cell_type": "markdown",
   "metadata": {},
   "source": [
    "※ 別の場所に module を配置する場合、そこに `PYTHONPATH` を通すこと！"
   ]
  }
 ],
 "metadata": {
  "interpreter": {
   "hash": "8c6016f40169d990b868d261ef29c4bc9e9e444f1b0778f5ad4382daa54bf391"
  },
  "kernelspec": {
   "display_name": "Python 3.8.9 64-bit ('rinko2021-python': pyenv)",
   "language": "python",
   "name": "python3"
  },
  "language_info": {
   "codemirror_mode": {
    "name": "ipython",
    "version": 3
   },
   "file_extension": ".py",
   "mimetype": "text/x-python",
   "name": "python",
   "nbconvert_exporter": "python",
   "pygments_lexer": "ipython3",
   "version": "3.8.9"
  },
  "orig_nbformat": 4
 },
 "nbformat": 4,
 "nbformat_minor": 2
}
