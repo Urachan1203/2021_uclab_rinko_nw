{
 "cells": [
  {
   "cell_type": "markdown",
   "metadata": {},
   "source": [
    "# Learning Additional Tips, Trick, and General Information When Using Python"
   ]
  },
  {
   "cell_type": "code",
   "execution_count": 1,
   "metadata": {},
   "outputs": [],
   "source": [
    "hostname = 'DEVICE_12345'"
   ]
  },
  {
   "cell_type": "code",
   "execution_count": 2,
   "metadata": {},
   "outputs": [
    {
     "data": {
      "text/plain": [
       "'CE_12345'"
      ]
     },
     "execution_count": 2,
     "metadata": {},
     "output_type": "execute_result"
    }
   ],
   "source": [
    "hostname[4:]            #! 4文字目以降にアクセスできる"
   ]
  },
  {
   "cell_type": "code",
   "execution_count": 4,
   "metadata": {},
   "outputs": [
    {
     "data": {
      "text/plain": [
       "'DEVICE_123'"
      ]
     },
     "execution_count": 4,
     "metadata": {},
     "output_type": "execute_result"
    }
   ],
   "source": [
    "hostname[:-2]           #! 最初～後ろから2文字目までにアクセスできる"
   ]
  },
  {
   "cell_type": "code",
   "execution_count": 5,
   "metadata": {},
   "outputs": [
    {
     "data": {
      "text/plain": [
       "str"
      ]
     },
     "execution_count": 5,
     "metadata": {},
     "output_type": "execute_result"
    }
   ],
   "source": [
    "hostname = 'router1'\n",
    "type(hostname)          #! hostname の型を取得"
   ]
  },
  {
   "cell_type": "code",
   "execution_count": 7,
   "metadata": {},
   "outputs": [
    {
     "data": {
      "text/plain": [
       "['__add__',\n",
       " '__class__',\n",
       " '__contains__',\n",
       " '__delattr__',\n",
       " '__dir__',\n",
       " '__doc__',\n",
       " '__eq__',\n",
       " '__format__',\n",
       " '__ge__',\n",
       " '__getattribute__',\n",
       " '__getitem__',\n",
       " '__getnewargs__',\n",
       " '__gt__',\n",
       " '__hash__',\n",
       " '__init__',\n",
       " '__init_subclass__',\n",
       " '__iter__',\n",
       " '__le__',\n",
       " '__len__',\n",
       " '__lt__',\n",
       " '__mod__',\n",
       " '__mul__',\n",
       " '__ne__',\n",
       " '__new__',\n",
       " '__reduce__',\n",
       " '__reduce_ex__',\n",
       " '__repr__',\n",
       " '__rmod__',\n",
       " '__rmul__',\n",
       " '__setattr__',\n",
       " '__sizeof__',\n",
       " '__str__',\n",
       " '__subclasshook__',\n",
       " 'capitalize',\n",
       " 'casefold',\n",
       " 'center',\n",
       " 'count',\n",
       " 'encode',\n",
       " 'endswith',\n",
       " 'expandtabs',\n",
       " 'find',\n",
       " 'format',\n",
       " 'format_map',\n",
       " 'index',\n",
       " 'isalnum',\n",
       " 'isalpha',\n",
       " 'isascii',\n",
       " 'isdecimal',\n",
       " 'isdigit',\n",
       " 'isidentifier',\n",
       " 'islower',\n",
       " 'isnumeric',\n",
       " 'isprintable',\n",
       " 'isspace',\n",
       " 'istitle',\n",
       " 'isupper',\n",
       " 'join',\n",
       " 'ljust',\n",
       " 'lower',\n",
       " 'lstrip',\n",
       " 'maketrans',\n",
       " 'partition',\n",
       " 'replace',\n",
       " 'rfind',\n",
       " 'rindex',\n",
       " 'rjust',\n",
       " 'rpartition',\n",
       " 'rsplit',\n",
       " 'rstrip',\n",
       " 'split',\n",
       " 'splitlines',\n",
       " 'startswith',\n",
       " 'strip',\n",
       " 'swapcase',\n",
       " 'title',\n",
       " 'translate',\n",
       " 'upper',\n",
       " 'zfill']"
      ]
     },
     "execution_count": 7,
     "metadata": {},
     "output_type": "execute_result"
    }
   ],
   "source": [
    "dir(hostname)           #! hostname が持つ method を取得"
   ]
  },
  {
   "cell_type": "code",
   "execution_count": 8,
   "metadata": {},
   "outputs": [
    {
     "name": "stdout",
     "output_type": "stream",
     "text": [
      "Help on built-in function upper:\n",
      "\n",
      "upper() method of builtins.str instance\n",
      "    Return a copy of the string converted to uppercase.\n",
      "\n"
     ]
    }
   ],
   "source": [
    "help(hostname.upper)    #! method の使い方が取得できる"
   ]
  },
  {
   "cell_type": "code",
   "execution_count": 9,
   "metadata": {},
   "outputs": [
    {
     "name": "stdout",
     "output_type": "stream",
     "text": [
      "devices is a list\n"
     ]
    }
   ],
   "source": [
    "hostname = ''\n",
    "devices = []\n",
    "if isinstance(devices, list):   #! isinstance(instance, type) で、instance が type 型かどうか判定できる\n",
    "    print('devices is a list')"
   ]
  },
  {
   "cell_type": "code",
   "execution_count": 10,
   "metadata": {},
   "outputs": [
    {
     "name": "stdout",
     "output_type": "stream",
     "text": [
      "hostname is a string\n"
     ]
    }
   ],
   "source": [
    "if isinstance(hostname, str):\n",
    "    print('hostname is a string')"
   ]
  },
  {
   "cell_type": "markdown",
   "metadata": {},
   "source": [
    "スクリプトを実行する際に `-i` 付きで実行すると、スクリプトを終了する直前でインタプリタに入り、すべてのオブジェクトにアクセスすることができる。デバッグに便利。"
   ]
  },
  {
   "cell_type": "markdown",
   "metadata": {},
   "source": [
    "```\n",
    "$ python -i test.py\n",
    ">>> print(devices)\n",
    "['r1', 'r2', 'r3']\n",
    ">>> print(hostname)\n",
    "router5\n",
    ">>> \n",
    "```"
   ]
  },
  {
   "cell_type": "markdown",
   "metadata": {},
   "source": [
    "Python のオブジェクトは、\n",
    "- nullでない場合 `True`\n",
    "- nullの場合 `False`\n",
    "\n",
    "として扱われる "
   ]
  },
  {
   "cell_type": "code",
   "execution_count": 13,
   "metadata": {},
   "outputs": [
    {
     "data": {
      "text/plain": [
       "False"
      ]
     },
     "execution_count": 13,
     "metadata": {},
     "output_type": "execute_result"
    }
   ],
   "source": [
    "devices = []\n",
    "bool(devices)           #! >> False（nullじゃない気がするんだけど・・・空だからってことですよね・・・？）"
   ]
  },
  {
   "cell_type": "code",
   "execution_count": 15,
   "metadata": {},
   "outputs": [
    {
     "data": {
      "text/plain": [
       "True"
      ]
     },
     "execution_count": 15,
     "metadata": {},
     "output_type": "execute_result"
    }
   ],
   "source": [
    "hostname = 'something'\n",
    "bool(hostname)          #! >> True"
   ]
  },
  {
   "cell_type": "markdown",
   "metadata": {},
   "source": [
    "string を結合する方法はいくつかある\n",
    "\n",
    "- `+` で結合する\n",
    "- `format()` で結合する\n",
    "- `%` で結合する"
   ]
  },
  {
   "cell_type": "code",
   "execution_count": 16,
   "metadata": {},
   "outputs": [
    {
     "data": {
      "text/plain": [
       "'Device r5 has one interface Eth1/1 '"
      ]
     },
     "execution_count": 16,
     "metadata": {},
     "output_type": "execute_result"
    }
   ],
   "source": [
    "hostname = 'r5'\n",
    "interface = 'Eth1/1'\n",
    "\n",
    "test = 'Device %s has one interface %s ' %(hostname, interface)\n",
    "\n",
    "test"
   ]
  },
  {
   "cell_type": "markdown",
   "metadata": {},
   "source": [
    "コメントの書き方\n",
    "- `#` を使う（インラインも可）\n",
    "- `\"\"\"` で囲む"
   ]
  },
  {
   "cell_type": "code",
   "execution_count": 18,
   "metadata": {},
   "outputs": [],
   "source": [
    "def get_commands(vlan, name):\n",
    "\n",
    "    \"\"\"\n",
    "    Get commands to configure a VLAN.\n",
    "    \"\"\"\n",
    "\n",
    "    commands = []\n",
    "    # building list of commands to configure a vlan\n",
    "    commands.append('vlan ' + vlan)\n",
    "    commands.append('name ' + name) # appending name\n",
    "    return commands"
   ]
  },
  {
   "cell_type": "markdown",
   "metadata": {},
   "source": [
    "`\"\"\"` で囲むコメント方法を取ると、help() で参照できる"
   ]
  },
  {
   "cell_type": "code",
   "execution_count": 1,
   "metadata": {},
   "outputs": [
    {
     "name": "stdout",
     "output_type": "stream",
     "text": [
      "Help on function get_commands in module push:\n",
      "\n",
      "get_commands(vlan, name)\n",
      "    Get commands to configure a VLAN.\n",
      "    Args:\n",
      "    vlan (int): vlan id\n",
      "    name (str): name of the vlan\n",
      "    Returns:\n",
      "    List of commands is returned.\n",
      "\n"
     ]
    }
   ],
   "source": [
    "import push\n",
    "help(push.get_commands)"
   ]
  },
  {
   "cell_type": "markdown",
   "metadata": {},
   "source": [
    "classの定義とコンストラクタの生成方法"
   ]
  },
  {
   "cell_type": "code",
   "execution_count": 17,
   "metadata": {},
   "outputs": [],
   "source": [
    "class Device:\n",
    "    # ip = ''\n",
    "    # username = ''\n",
    "    # password = ''\n",
    "    \n",
    "    def __init__(self, ip, username, password):\n",
    "        ip = ip\n",
    "        username = username\n",
    "        password = password"
   ]
  },
  {
   "cell_type": "code",
   "execution_count": 18,
   "metadata": {},
   "outputs": [],
   "source": [
    "switch1 = Device('10.1.1.1', 'cisco', 'pw1')\n",
    "switch2 = Device('10.1.1.2', 'cisco', 'pw2')\n",
    "switch3 = Device('10.1.1.3', 'cisco', 'pw3')"
   ]
  },
  {
   "cell_type": "code",
   "execution_count": 19,
   "metadata": {},
   "outputs": [
    {
     "ename": "AttributeError",
     "evalue": "'Device' object has no attribute 'show'",
     "output_type": "error",
     "traceback": [
      "\u001b[0;31m---------------------------------------------------------------------------\u001b[0m",
      "\u001b[0;31mAttributeError\u001b[0m                            Traceback (most recent call last)",
      "\u001b[0;32m/tmp/ipykernel_84253/3004864129.py\u001b[0m in \u001b[0;36m<module>\u001b[0;34m\u001b[0m\n\u001b[1;32m      2\u001b[0m \u001b[0;34m\u001b[0m\u001b[0m\n\u001b[1;32m      3\u001b[0m \u001b[0;32mfor\u001b[0m \u001b[0mswitch\u001b[0m \u001b[0;32min\u001b[0m \u001b[0mswitches\u001b[0m\u001b[0;34m:\u001b[0m\u001b[0;34m\u001b[0m\u001b[0;34m\u001b[0m\u001b[0m\n\u001b[0;32m----> 4\u001b[0;31m     \u001b[0mresponse\u001b[0m \u001b[0;34m=\u001b[0m \u001b[0mswitch\u001b[0m\u001b[0;34m.\u001b[0m\u001b[0mshow\u001b[0m\u001b[0;34m(\u001b[0m\u001b[0;34m'show hostname'\u001b[0m\u001b[0;34m)\u001b[0m\u001b[0;34m[\u001b[0m\u001b[0;36m1\u001b[0m\u001b[0;34m]\u001b[0m\u001b[0;34m\u001b[0m\u001b[0;34m\u001b[0m\u001b[0m\n\u001b[0m",
      "\u001b[0;31mAttributeError\u001b[0m: 'Device' object has no attribute 'show'"
     ]
    }
   ],
   "source": [
    "switches = [switch1, switch2]\n",
    "\n",
    "for switch in switches:\n",
    "    # response = switch.show('show hostname')[1]        #! これは何？？（そもそも教科書に Device クラスの定義がない気が、、？）"
   ]
  }
 ],
 "metadata": {
  "interpreter": {
   "hash": "8c6016f40169d990b868d261ef29c4bc9e9e444f1b0778f5ad4382daa54bf391"
  },
  "kernelspec": {
   "display_name": "Python 3.8.9 64-bit ('rinko2021-python': pyenv)",
   "language": "python",
   "name": "python3"
  },
  "language_info": {
   "codemirror_mode": {
    "name": "ipython",
    "version": 3
   },
   "file_extension": ".py",
   "mimetype": "text/x-python",
   "name": "python",
   "nbconvert_exporter": "python",
   "pygments_lexer": "ipython3",
   "version": "3.8.9"
  },
  "orig_nbformat": 4
 },
 "nbformat": 4,
 "nbformat_minor": 2
}
